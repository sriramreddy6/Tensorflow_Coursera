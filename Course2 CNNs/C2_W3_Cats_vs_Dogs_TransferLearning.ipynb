{
  "nbformat": 4,
  "nbformat_minor": 0,
  "metadata": {
    "colab": {
      "name": "C2_W3_Cats_vs_Dogs_TransferLearning.ipynb",
      "provenance": [],
      "collapsed_sections": []
    },
    "kernelspec": {
      "name": "python3",
      "display_name": "Python 3"
    },
    "accelerator": "GPU"
  },
  "cells": [
    {
      "cell_type": "markdown",
      "metadata": {
        "id": "nzQ4pnATSe1z",
        "colab_type": "text"
      },
      "source": [
        "**C2_W3_Cats_vs_Dogs_TransferLearning**\n"
      ]
    },
    {
      "cell_type": "code",
      "metadata": {
        "id": "kDOEAyMcR_25",
        "colab_type": "code",
        "colab": {
          "base_uri": "https://localhost:8080/",
          "height": 204
        },
        "outputId": "e6f88c64-e3be-4888-ff2c-48ac59ce348d"
      },
      "source": [
        "import os\n",
        "from tensorflow.keras import layers, Model\n",
        "\n",
        "!wget --no-check-certificate \\\n",
        "    https://storage.googleapis.com/mledu-datasets/inception_v3_weights_tf_dim_ordering_tf_kernels_notop.h5 \\\n",
        "    -O /tmp/inception_v3_weights_tf_dim_ordering_tf_kernels_notop.h5\n",
        "\n"
      ],
      "execution_count": 1,
      "outputs": [
        {
          "output_type": "stream",
          "text": [
            "--2020-09-09 19:15:58--  https://storage.googleapis.com/mledu-datasets/inception_v3_weights_tf_dim_ordering_tf_kernels_notop.h5\n",
            "Resolving storage.googleapis.com (storage.googleapis.com)... 74.125.142.128, 74.125.195.128, 74.125.20.128, ...\n",
            "Connecting to storage.googleapis.com (storage.googleapis.com)|74.125.142.128|:443... connected.\n",
            "HTTP request sent, awaiting response... 200 OK\n",
            "Length: 87910968 (84M) [application/x-hdf]\n",
            "Saving to: ‘/tmp/inception_v3_weights_tf_dim_ordering_tf_kernels_notop.h5’\n",
            "\n",
            "/tmp/inception_v3_w 100%[===================>]  83.84M   103MB/s    in 0.8s    \n",
            "\n",
            "2020-09-09 19:16:00 (103 MB/s) - ‘/tmp/inception_v3_weights_tf_dim_ordering_tf_kernels_notop.h5’ saved [87910968/87910968]\n",
            "\n"
          ],
          "name": "stdout"
        }
      ]
    },
    {
      "cell_type": "code",
      "metadata": {
        "id": "0Mp027-cS7P-",
        "colab_type": "code",
        "colab": {
          "base_uri": "https://localhost:8080/",
          "height": 34
        },
        "outputId": "9988f705-f725-461c-cd92-a1d0f37e1e46"
      },
      "source": [
        "from tensorflow.keras.applications.inception_v3 import InceptionV3\n",
        "local_weights_file = '/tmp/inception_v3_weights_tf_dim_ordering_tf_kernels_notop.h5'\n",
        "\n",
        "pre_trained_model = InceptionV3(input_shape=(150, 150, 3),\n",
        "                                include_top= False,\n",
        "                                weights= None)\n",
        "\n",
        "pre_trained_model.load_weights(local_weights_file)\n",
        "\n",
        "for layer in pre_trained_model.layers:\n",
        "  layer.trainable = False\n",
        "\n",
        "last_layer = pre_trained_model.get_layer('mixed7')\n",
        "print('last layer output shape:', last_layer.output_shape)\n",
        "last_output = last_layer.output"
      ],
      "execution_count": 4,
      "outputs": [
        {
          "output_type": "stream",
          "text": [
            "last layer output shape: (None, 7, 7, 768)\n"
          ],
          "name": "stdout"
        }
      ]
    },
    {
      "cell_type": "code",
      "metadata": {
        "id": "UxemUIrGUBa4",
        "colab_type": "code",
        "colab": {}
      },
      "source": [
        "from tensorflow.keras.optimizers import RMSprop\n",
        "\n",
        "x=layers.Flatten()(last_output)\n",
        "x=layers.Dense(1024, activation='relu')(x)\n",
        "x=layers.Dropout(0.2)(x)\n",
        "x=layers.Dense(1, activation='sigmoid')(x)\n",
        "\n",
        "model = Model(pre_trained_model.input, x)\n",
        "\n",
        "model.compile(optimizer=RMSprop(lr=0.0001),\n",
        "              loss = 'binary_crossentropy',\n",
        "              metrics=['accuracy'])"
      ],
      "execution_count": 6,
      "outputs": []
    },
    {
      "cell_type": "code",
      "metadata": {
        "id": "c1snloB8Vm-V",
        "colab_type": "code",
        "colab": {
          "base_uri": "https://localhost:8080/",
          "height": 204
        },
        "outputId": "f31073f8-12a5-41a1-deae-c1f00fa5c9fa"
      },
      "source": [
        "!wget --no-check-certificate \\\n",
        "        https://storage.googleapis.com/mledu-datasets/cats_and_dogs_filtered.zip \\\n",
        "       -O /tmp/cats_and_dogs_filtered.zip\n",
        "\n"
      ],
      "execution_count": 7,
      "outputs": [
        {
          "output_type": "stream",
          "text": [
            "--2020-09-09 19:29:36--  https://storage.googleapis.com/mledu-datasets/cats_and_dogs_filtered.zip\n",
            "Resolving storage.googleapis.com (storage.googleapis.com)... 74.125.197.128, 74.125.142.128, 74.125.195.128, ...\n",
            "Connecting to storage.googleapis.com (storage.googleapis.com)|74.125.197.128|:443... connected.\n",
            "HTTP request sent, awaiting response... 200 OK\n",
            "Length: 68606236 (65M) [application/zip]\n",
            "Saving to: ‘/tmp/cats_and_dogs_filtered.zip’\n",
            "\n",
            "/tmp/cats_and_dogs_ 100%[===================>]  65.43M   166MB/s    in 0.4s    \n",
            "\n",
            "2020-09-09 19:29:37 (166 MB/s) - ‘/tmp/cats_and_dogs_filtered.zip’ saved [68606236/68606236]\n",
            "\n"
          ],
          "name": "stdout"
        }
      ]
    },
    {
      "cell_type": "code",
      "metadata": {
        "id": "uSgIB_MPWEWW",
        "colab_type": "code",
        "colab": {
          "base_uri": "https://localhost:8080/",
          "height": 51
        },
        "outputId": "bdffb6af-5c3f-4420-bf08-ff72fc5b1c8f"
      },
      "source": [
        "from tensorflow.keras.preprocessing.image import ImageDataGenerator\n",
        "\n",
        "import os\n",
        "import zipfile\n",
        "\n",
        "local_zip = '//tmp/cats_and_dogs_filtered.zip'\n",
        "\n",
        "zipref = zipfile.ZipFile(local_zip, 'r')\n",
        "zipref.extractall('/tmp')\n",
        "zipref.close()\n",
        "\n",
        "base_dir= '/tmp/cats_and_dogs_filtered'\n",
        "\n",
        "train_dir = os.path.join(base_dir, 'train')\n",
        "validation_dir = os.path.join(base_dir, 'validation')\n",
        "\n",
        "train_cats_dir = os.path.join(train_dir, 'cats')\n",
        "train_dogs_dir = os.path.join(train_dir, 'dogs')\n",
        "validation_cats_dir = os.path.join(validation_dir, 'cats')\n",
        "validation_dogs_dir = os.path.join(validation_dir, 'dogs')\n",
        "\n",
        "train_cat_fnames = os.listdir(train_cats_dir)\n",
        "train_dog_fnames = os.listdir(train_dogs_dir)\n",
        "\n",
        "train_datagen = ImageDataGenerator(rescale=1/255,\n",
        "                                   rotation_range=40,\n",
        "                                   width_shift_range=0.2,\n",
        "                                   height_shift_range=0.2,\n",
        "                                   shear_range=0.2,\n",
        "                                   zoom_range=0.2,\n",
        "                                   horizontal_flip= True)\n",
        "\n",
        "test_datagen = ImageDataGenerator(rescale=1/255)\n",
        "\n",
        "train_generator = train_datagen.flow_from_directory(train_dir,\n",
        "                                                    batch_size=20,\n",
        "                                                    class_mode='binary',\n",
        "                                                    target_size=(150,150))\n",
        "\n",
        "validation_generator = test_datagen.flow_from_directory(validation_dir,\n",
        "                                                        batch_size=20,\n",
        "                                                        class_mode='binary',\n",
        "                                                        target_size=(150,150))\n"
      ],
      "execution_count": 9,
      "outputs": [
        {
          "output_type": "stream",
          "text": [
            "Found 2000 images belonging to 2 classes.\n",
            "Found 1000 images belonging to 2 classes.\n"
          ],
          "name": "stdout"
        }
      ]
    },
    {
      "cell_type": "code",
      "metadata": {
        "id": "zngKSZkRXS3A",
        "colab_type": "code",
        "colab": {
          "base_uri": "https://localhost:8080/",
          "height": 697
        },
        "outputId": "6ef0a7f1-09c8-4a32-e5d8-5a743ace82ec"
      },
      "source": [
        "history = model.fit(train_generator, \n",
        "                    validation_data= validation_generator,\n",
        "                    validation_steps=50,\n",
        "                    steps_per_epoch = 100,\n",
        "                    epochs=20,\n",
        "                    verbose=2)"
      ],
      "execution_count": 10,
      "outputs": [
        {
          "output_type": "stream",
          "text": [
            "Epoch 1/20\n",
            "100/100 - 20s - loss: 0.3438 - accuracy: 0.8625 - val_loss: 0.1797 - val_accuracy: 0.9310\n",
            "Epoch 2/20\n",
            "100/100 - 19s - loss: 0.2275 - accuracy: 0.9080 - val_loss: 0.1062 - val_accuracy: 0.9630\n",
            "Epoch 3/20\n",
            "100/100 - 19s - loss: 0.1959 - accuracy: 0.9320 - val_loss: 0.1215 - val_accuracy: 0.9570\n",
            "Epoch 4/20\n",
            "100/100 - 19s - loss: 0.2034 - accuracy: 0.9260 - val_loss: 0.1136 - val_accuracy: 0.9640\n",
            "Epoch 5/20\n",
            "100/100 - 19s - loss: 0.1722 - accuracy: 0.9385 - val_loss: 0.1166 - val_accuracy: 0.9580\n",
            "Epoch 6/20\n",
            "100/100 - 19s - loss: 0.1635 - accuracy: 0.9415 - val_loss: 0.1097 - val_accuracy: 0.9650\n",
            "Epoch 7/20\n",
            "100/100 - 19s - loss: 0.1974 - accuracy: 0.9345 - val_loss: 0.0992 - val_accuracy: 0.9680\n",
            "Epoch 8/20\n",
            "100/100 - 19s - loss: 0.1649 - accuracy: 0.9425 - val_loss: 0.1059 - val_accuracy: 0.9670\n",
            "Epoch 9/20\n",
            "100/100 - 19s - loss: 0.1619 - accuracy: 0.9440 - val_loss: 0.0898 - val_accuracy: 0.9710\n",
            "Epoch 10/20\n",
            "100/100 - 19s - loss: 0.1428 - accuracy: 0.9525 - val_loss: 0.1592 - val_accuracy: 0.9550\n",
            "Epoch 11/20\n",
            "100/100 - 19s - loss: 0.1875 - accuracy: 0.9380 - val_loss: 0.1167 - val_accuracy: 0.9640\n",
            "Epoch 12/20\n",
            "100/100 - 19s - loss: 0.1636 - accuracy: 0.9450 - val_loss: 0.1257 - val_accuracy: 0.9620\n",
            "Epoch 13/20\n",
            "100/100 - 19s - loss: 0.1178 - accuracy: 0.9590 - val_loss: 0.1379 - val_accuracy: 0.9600\n",
            "Epoch 14/20\n",
            "100/100 - 20s - loss: 0.1531 - accuracy: 0.9560 - val_loss: 0.1112 - val_accuracy: 0.9650\n",
            "Epoch 15/20\n",
            "100/100 - 19s - loss: 0.1463 - accuracy: 0.9480 - val_loss: 0.1660 - val_accuracy: 0.9560\n",
            "Epoch 16/20\n",
            "100/100 - 19s - loss: 0.1375 - accuracy: 0.9510 - val_loss: 0.1863 - val_accuracy: 0.9530\n",
            "Epoch 17/20\n",
            "100/100 - 19s - loss: 0.1436 - accuracy: 0.9545 - val_loss: 0.1246 - val_accuracy: 0.9670\n",
            "Epoch 18/20\n",
            "100/100 - 19s - loss: 0.1261 - accuracy: 0.9600 - val_loss: 0.1429 - val_accuracy: 0.9600\n",
            "Epoch 19/20\n",
            "100/100 - 19s - loss: 0.1222 - accuracy: 0.9600 - val_loss: 0.1210 - val_accuracy: 0.9690\n",
            "Epoch 20/20\n",
            "100/100 - 19s - loss: 0.1351 - accuracy: 0.9545 - val_loss: 0.1112 - val_accuracy: 0.9650\n"
          ],
          "name": "stdout"
        }
      ]
    },
    {
      "cell_type": "code",
      "metadata": {
        "id": "rC_ASspWYzDc",
        "colab_type": "code",
        "colab": {
          "base_uri": "https://localhost:8080/",
          "height": 547
        },
        "outputId": "edde5c5a-2e4c-4d1e-fef3-183c9c845e80"
      },
      "source": [
        "import matplotlib.pyplot as plt\n",
        "\n",
        "acc = history.history['accuracy']\n",
        "val_acc = history.history['val_accuracy']\n",
        "loss = history.history['loss']\n",
        "val_loss = history.history['val_loss']\n",
        "\n",
        "epochs = range(len(acc))\n",
        "\n",
        "plt.plot(epochs, acc, 'r', label='Training Accuracy')\n",
        "plt.plot(epochs, val_acc, 'b', label='Validation Accuracy')\n",
        "plt.legend(loc=0)\n",
        "plt.figure()\n",
        "\n",
        "\n",
        "plt.show()\n",
        "plt.plot(epochs, loss, 'r', label='Training Loss')\n",
        "plt.plot(epochs, val_loss, 'b', label='Validation Loss')\n",
        "plt.figure()\n",
        "\n",
        "\n",
        "plt.show()"
      ],
      "execution_count": 11,
      "outputs": [
        {
          "output_type": "display_data",
          "data": {
            "image/png": "[encoded data removed]",
            "text/plain": [
              "<Figure size 432x288 with 1 Axes>"
            ]
          },
          "metadata": {
            "tags": [],
            "needs_background": "light"
          }
        },
        {
          "output_type": "display_data",
          "data": {
            "text/plain": [
              "<Figure size 432x288 with 0 Axes>"
            ]
          },
          "metadata": {
            "tags": []
          }
        },
        {
          "output_type": "display_data",
          "data": {
            "image/png": "[encoded data removed]",
            "text/plain": [
              "<Figure size 432x288 with 1 Axes>"
            ]
          },
          "metadata": {
            "tags": [],
            "needs_background": "light"
          }
        },
        {
          "output_type": "display_data",
          "data": {
            "text/plain": [
              "<Figure size 432x288 with 0 Axes>"
            ]
          },
          "metadata": {
            "tags": []
          }
        }
      ]
    },
    {
      "cell_type": "code",
      "metadata": {
        "id": "acDLzOYPaWSA",
        "colab_type": "code",
        "colab": {}
      },
      "source": [
        ""
      ],
      "execution_count": null,
      "outputs": []
    }
  ]
}