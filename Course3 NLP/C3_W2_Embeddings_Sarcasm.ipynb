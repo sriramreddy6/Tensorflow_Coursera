{
  "nbformat": 4,
  "nbformat_minor": 0,
  "metadata": {
    "colab": {
      "name": "C3_W2_Embeddings_Sarcasm.ipynb",
      "provenance": [],
      "collapsed_sections": []
    },
    "kernelspec": {
      "name": "python3",
      "display_name": "Python 3"
    }
  },
  "cells": [
    {
      "cell_type": "markdown",
      "metadata": {
        "id": "1pNRI8iVR3KK",
        "colab_type": "text"
      },
      "source": [
        "**C3_W2_Embeddings_Sarcasm**"
      ]
    },
    {
      "cell_type": "code",
      "metadata": {
        "id": "t-8dTpXU2pYT",
        "colab_type": "code",
        "colab": {
          "base_uri": "https://localhost:8080/",
          "height": 34
        },
        "outputId": "02221140-77de-4a68-e480-94e92c7b9c2c"
      },
      "source": [
        "import tensorflow as tf\n",
        "import json\n",
        "\n",
        "from tensorflow.keras.preprocessing.text import Tokenizer\n",
        "from tensorflow.keras.preprocessing.sequence import pad_sequences\n",
        "\n",
        "print(tf.__version__)"
      ],
      "execution_count": 3,
      "outputs": [
        {
          "output_type": "stream",
          "text": [
            "2.3.0\n"
          ],
          "name": "stdout"
        }
      ]
    },
    {
      "cell_type": "code",
      "metadata": {
        "id": "sP1JHrafLqBl",
        "colab_type": "code",
        "colab": {}
      },
      "source": [
        "vocab_size = 10000\n",
        "embedding_dim = 16\n",
        "max_length=100\n",
        "trunc_type='post'\n",
        "padding_type='post'\n",
        "oov_tok='<OOV>'\n",
        "training_size=20000"
      ],
      "execution_count": 10,
      "outputs": []
    },
    {
      "cell_type": "code",
      "metadata": {
        "id": "WAJpX7xjMRpu",
        "colab_type": "code",
        "colab": {
          "base_uri": "https://localhost:8080/",
          "height": 204
        },
        "outputId": "01fd93b0-5771-4cb1-f54b-fe839e9d0250"
      },
      "source": [
        "!wget --no-check-certificate \\\n",
        "    https://storage.googleapis.com/laurencemoroney-blog.appspot.com/sarcasm.json \\\n",
        "    -O /tmp/sarcasm.json"
      ],
      "execution_count": 5,
      "outputs": [
        {
          "output_type": "stream",
          "text": [
            "--2020-09-11 22:03:11--  https://storage.googleapis.com/laurencemoroney-blog.appspot.com/sarcasm.json\n",
            "Resolving storage.googleapis.com (storage.googleapis.com)... 108.177.119.128, 108.177.126.128, 172.217.218.128, ...\n",
            "Connecting to storage.googleapis.com (storage.googleapis.com)|108.177.119.128|:443... connected.\n",
            "HTTP request sent, awaiting response... 200 OK\n",
            "Length: 5643545 (5.4M) [application/json]\n",
            "Saving to: ‘/tmp/sarcasm.json’\n",
            "\n",
            "/tmp/sarcasm.json   100%[===================>]   5.38M  20.7MB/s    in 0.3s    \n",
            "\n",
            "2020-09-11 22:03:12 (20.7 MB/s) - ‘/tmp/sarcasm.json’ saved [5643545/5643545]\n",
            "\n"
          ],
          "name": "stdout"
        }
      ]
    },
    {
      "cell_type": "code",
      "metadata": {
        "id": "zekHQeH2MZq3",
        "colab_type": "code",
        "colab": {}
      },
      "source": [
        "with open('/tmp/sarcasm.json', 'r') as f:\n",
        "  datastore = json.load(f)\n",
        "\n",
        "sentences = []\n",
        "labels = []\n",
        "\n",
        "for item in datastore:\n",
        "  sentences.append(item['headline'])\n",
        "  labels.append(item['is_sarcastic'])"
      ],
      "execution_count": 11,
      "outputs": []
    },
    {
      "cell_type": "code",
      "metadata": {
        "id": "kLzkROAdM8QC",
        "colab_type": "code",
        "colab": {}
      },
      "source": [
        "training_sentences = sentences[0:training_size]\n",
        "testing_sentences = sentences[training_size:]\n",
        "training_labels = labels[0:training_size]\n",
        "testing_labels = labels[training_size:]"
      ],
      "execution_count": 12,
      "outputs": []
    },
    {
      "cell_type": "code",
      "metadata": {
        "id": "ln70_KkXNcqU",
        "colab_type": "code",
        "colab": {}
      },
      "source": [
        "tokenizer = Tokenizer(num_words=vocab_size, oov_token=oov_tok)\n",
        "tokenizer.fit_on_texts(training_sentences)\n",
        "\n",
        "word_index = tokenizer.word_index\n",
        "\n",
        "training_sequences = tokenizer.texts_to_sequences(training_sentences)\n",
        "training_padded = pad_sequences(training_sequences, maxlen=max_length, padding=padding_type, truncating=trunc_type)\n",
        "\n",
        "testing_sequences = tokenizer.texts_to_sequences(testing_sentences)\n",
        "testing_padded = pad_sequences(testing_sequences, maxlen=max_length, padding=padding_type, truncating=trunc_type)"
      ],
      "execution_count": 13,
      "outputs": []
    },
    {
      "cell_type": "code",
      "metadata": {
        "id": "pvH_5M5yOveC",
        "colab_type": "code",
        "colab": {}
      },
      "source": [
        "import numpy as np\n",
        "\n",
        "training_padded = np.array(training_padded)\n",
        "training_labels = np.array(training_labels)\n",
        "testing_padded = np.array(testing_padded)\n",
        "testing_labels = np.array(testing_labels)"
      ],
      "execution_count": 14,
      "outputs": []
    },
    {
      "cell_type": "code",
      "metadata": {
        "id": "gjB76dMuPR80",
        "colab_type": "code",
        "colab": {}
      },
      "source": [
        "model = tf.keras.Sequential([\n",
        "                             tf.keras.layers.Embedding(vocab_size, embedding_dim, input_length= max_length),\n",
        "                             tf.keras.layers.GlobalAveragePooling1D(),\n",
        "                             tf.keras.layers.Dense(24, activation='relu'),\n",
        "                             tf.keras.layers.Dense(1, activation='relu')\n",
        "])\n",
        "\n",
        "model.compile(loss= 'binary_crossentropy', optimizer='adam', metrics=['accuracy'])"
      ],
      "execution_count": 15,
      "outputs": []
    },
    {
      "cell_type": "code",
      "metadata": {
        "id": "So0MN7_cQ0gX",
        "colab_type": "code",
        "colab": {
          "base_uri": "https://localhost:8080/",
          "height": 289
        },
        "outputId": "6c875fa7-725b-49f0-edb7-ad1e3d69976f"
      },
      "source": [
        "model.summary()"
      ],
      "execution_count": 16,
      "outputs": [
        {
          "output_type": "stream",
          "text": [
            "Model: \"sequential\"\n",
            "_________________________________________________________________\n",
            "Layer (type)                 Output Shape              Param #   \n",
            "=================================================================\n",
            "embedding (Embedding)        (None, 100, 16)           160000    \n",
            "_________________________________________________________________\n",
            "global_average_pooling1d (Gl (None, 16)                0         \n",
            "_________________________________________________________________\n",
            "dense (Dense)                (None, 24)                408       \n",
            "_________________________________________________________________\n",
            "dense_1 (Dense)              (None, 1)                 25        \n",
            "=================================================================\n",
            "Total params: 160,433\n",
            "Trainable params: 160,433\n",
            "Non-trainable params: 0\n",
            "_________________________________________________________________\n"
          ],
          "name": "stdout"
        }
      ]
    },
    {
      "cell_type": "code",
      "metadata": {
        "id": "byrAJqg-Q3OH",
        "colab_type": "code",
        "colab": {
          "base_uri": "https://localhost:8080/",
          "height": 1000
        },
        "outputId": "59381960-86ee-42b4-df04-2da1131eb6e1"
      },
      "source": [
        "num_epochs=30\n",
        "\n",
        "model.fit(training_padded, training_labels, epochs=num_epochs, validation_data=(testing_padded, testing_labels), verbose=2)"
      ],
      "execution_count": 17,
      "outputs": [
        {
          "output_type": "stream",
          "text": [
            "Epoch 1/30\n",
            "625/625 - 2s - loss: 0.6828 - accuracy: 0.5849 - val_loss: 0.6085 - val_accuracy: 0.6224\n",
            "Epoch 2/30\n",
            "625/625 - 2s - loss: 0.5197 - accuracy: 0.8110 - val_loss: 0.4664 - val_accuracy: 0.8325\n",
            "Epoch 3/30\n",
            "625/625 - 2s - loss: 0.3598 - accuracy: 0.8791 - val_loss: 0.4284 - val_accuracy: 0.8530\n",
            "Epoch 4/30\n",
            "625/625 - 2s - loss: 0.3134 - accuracy: 0.8935 - val_loss: 0.4328 - val_accuracy: 0.8544\n",
            "Epoch 5/30\n",
            "625/625 - 2s - loss: 0.3495 - accuracy: 0.8996 - val_loss: 7.1892 - val_accuracy: 0.4531\n",
            "Epoch 6/30\n",
            "625/625 - 2s - loss: 2.5819 - accuracy: 0.7239 - val_loss: 0.5320 - val_accuracy: 0.8332\n",
            "Epoch 7/30\n",
            "625/625 - 2s - loss: 0.3025 - accuracy: 0.8950 - val_loss: 0.5278 - val_accuracy: 0.8377\n",
            "Epoch 8/30\n",
            "625/625 - 2s - loss: 0.2789 - accuracy: 0.9052 - val_loss: 0.5328 - val_accuracy: 0.8442\n",
            "Epoch 9/30\n",
            "625/625 - 2s - loss: 0.2582 - accuracy: 0.9123 - val_loss: 0.5448 - val_accuracy: 0.8478\n",
            "Epoch 10/30\n",
            "625/625 - 2s - loss: 0.2401 - accuracy: 0.9196 - val_loss: 0.5685 - val_accuracy: 0.8474\n",
            "Epoch 11/30\n",
            "625/625 - 2s - loss: 0.2260 - accuracy: 0.9269 - val_loss: 0.5654 - val_accuracy: 0.8502\n",
            "Epoch 12/30\n",
            "625/625 - 2s - loss: 0.2127 - accuracy: 0.9313 - val_loss: 0.6060 - val_accuracy: 0.8533\n",
            "Epoch 13/30\n",
            "625/625 - 2s - loss: 0.2007 - accuracy: 0.9360 - val_loss: 0.6202 - val_accuracy: 0.8489\n",
            "Epoch 14/30\n",
            "625/625 - 2s - loss: 0.1890 - accuracy: 0.9402 - val_loss: 0.6653 - val_accuracy: 0.8521\n",
            "Epoch 15/30\n",
            "625/625 - 2s - loss: 0.1787 - accuracy: 0.9414 - val_loss: 0.7311 - val_accuracy: 0.8532\n",
            "Epoch 16/30\n",
            "625/625 - 2s - loss: 0.1717 - accuracy: 0.9460 - val_loss: 0.7733 - val_accuracy: 0.8529\n",
            "Epoch 17/30\n",
            "625/625 - 2s - loss: 0.1624 - accuracy: 0.9494 - val_loss: 0.8384 - val_accuracy: 0.8460\n",
            "Epoch 18/30\n",
            "625/625 - 2s - loss: 0.3466 - accuracy: 0.9346 - val_loss: 0.8351 - val_accuracy: 0.8487\n",
            "Epoch 19/30\n",
            "625/625 - 2s - loss: 0.1459 - accuracy: 0.9559 - val_loss: 0.8928 - val_accuracy: 0.8478\n",
            "Epoch 20/30\n",
            "625/625 - 2s - loss: 0.1390 - accuracy: 0.9592 - val_loss: 0.9393 - val_accuracy: 0.8468\n",
            "Epoch 21/30\n",
            "625/625 - 2s - loss: 0.1321 - accuracy: 0.9620 - val_loss: 1.0101 - val_accuracy: 0.8447\n",
            "Epoch 22/30\n",
            "625/625 - 2s - loss: 0.4675 - accuracy: 0.9327 - val_loss: 1.0129 - val_accuracy: 0.8392\n",
            "Epoch 23/30\n",
            "625/625 - 2s - loss: 0.1267 - accuracy: 0.9649 - val_loss: 1.0416 - val_accuracy: 0.8410\n",
            "Epoch 24/30\n",
            "625/625 - 2s - loss: 0.1382 - accuracy: 0.9643 - val_loss: 1.0826 - val_accuracy: 0.8392\n",
            "Epoch 25/30\n",
            "625/625 - 2s - loss: 0.1176 - accuracy: 0.9688 - val_loss: 1.1154 - val_accuracy: 0.8383\n",
            "Epoch 26/30\n",
            "625/625 - 2s - loss: 0.1121 - accuracy: 0.9701 - val_loss: 1.1606 - val_accuracy: 0.8381\n",
            "Epoch 27/30\n",
            "625/625 - 2s - loss: 0.1073 - accuracy: 0.9719 - val_loss: 1.2230 - val_accuracy: 0.8365\n",
            "Epoch 28/30\n",
            "625/625 - 2s - loss: 0.1035 - accuracy: 0.9735 - val_loss: 1.3003 - val_accuracy: 0.8343\n",
            "Epoch 29/30\n",
            "625/625 - 2s - loss: 0.1743 - accuracy: 0.9674 - val_loss: 1.3239 - val_accuracy: 0.8337\n",
            "Epoch 30/30\n",
            "625/625 - 2s - loss: 0.0962 - accuracy: 0.9762 - val_loss: 1.3716 - val_accuracy: 0.8329\n"
          ],
          "name": "stdout"
        },
        {
          "output_type": "execute_result",
          "data": {
            "text/plain": [
              "<tensorflow.python.keras.callbacks.History at 0x7fe711bfa518>"
            ]
          },
          "metadata": {
            "tags": []
          },
          "execution_count": 17
        }
      ]
    },
    {
      "cell_type": "code",
      "metadata": {
        "id": "3S6HUhUqRMgi",
        "colab_type": "code",
        "colab": {
          "base_uri": "https://localhost:8080/",
          "height": 88
        },
        "outputId": "4fbb70f4-e49f-4c6c-edec-8df0aa4bedf6"
      },
      "source": [
        "reverse_word_index = dict([(value, key) for (key, value) in word_index.items()])\n",
        "\n",
        "def decode_sentence(text):\n",
        "    return ' '.join([reverse_word_index.get(i, '?') for i in text])\n",
        "\n",
        "print(decode_sentence(training_padded[0]))\n",
        "print(training_sentences[2])\n",
        "print(labels[2])"
      ],
      "execution_count": 18,
      "outputs": [
        {
          "output_type": "stream",
          "text": [
            "former <OOV> store clerk sues over secret 'black <OOV> for minority shoppers ? ? ? ? ? ? ? ? ? ? ? ? ? ? ? ? ? ? ? ? ? ? ? ? ? ? ? ? ? ? ? ? ? ? ? ? ? ? ? ? ? ? ? ? ? ? ? ? ? ? ? ? ? ? ? ? ? ? ? ? ? ? ? ? ? ? ? ? ? ? ? ? ? ? ? ? ? ? ? ? ? ? ? ? ? ? ? ?\n",
            "mom starting to fear son's web series closest thing she will have to grandchild\n",
            "1\n"
          ],
          "name": "stdout"
        }
      ]
    },
    {
      "cell_type": "code",
      "metadata": {
        "id": "nG9V8J9PRSWd",
        "colab_type": "code",
        "colab": {
          "base_uri": "https://localhost:8080/",
          "height": 34
        },
        "outputId": "c1837b57-9f75-4a92-e507-c61d8411dfbe"
      },
      "source": [
        "e = model.layers[0]\n",
        "weights = e.get_weights()[0]\n",
        "print(weights.shape) # shape: (vocab_size, embedding_dim)\n"
      ],
      "execution_count": 19,
      "outputs": [
        {
          "output_type": "stream",
          "text": [
            "(10000, 16)\n"
          ],
          "name": "stdout"
        }
      ]
    },
    {
      "cell_type": "code",
      "metadata": {
        "id": "QQmKMiTDRUI6",
        "colab_type": "code",
        "colab": {}
      },
      "source": [
        "import io\n",
        "\n",
        "out_v = io.open('vecs.tsv', 'w', encoding='utf-8')\n",
        "out_m = io.open('meta.tsv', 'w', encoding='utf-8')\n",
        "for word_num in range(1, vocab_size):\n",
        "  word = reverse_word_index[word_num]\n",
        "  embeddings = weights[word_num]\n",
        "  out_m.write(word + \"\\n\")\n",
        "  out_v.write('\\t'.join([str(x) for x in embeddings]) + \"\\n\")\n",
        "out_v.close()\n",
        "out_m.close()"
      ],
      "execution_count": 20,
      "outputs": []
    },
    {
      "cell_type": "code",
      "metadata": {
        "id": "ABkhOGoARV9O",
        "colab_type": "code",
        "colab": {}
      },
      "source": [
        "try:\n",
        "  from google.colab import files\n",
        "except ImportError:\n",
        "  pass\n",
        "else:\n",
        "  files.download('vecs.tsv')\n",
        "  files.download('meta.tsv')"
      ],
      "execution_count": null,
      "outputs": []
    },
    {
      "cell_type": "code",
      "metadata": {
        "id": "ahiQVeSfRXzN",
        "colab_type": "code",
        "colab": {
          "base_uri": "https://localhost:8080/",
          "height": 51
        },
        "outputId": "b614685d-e259-4184-de45-a59a304cd91b"
      },
      "source": [
        "sentence = [\"granny starting to fear spiders in the garden might be real\", \"game of thrones season finale showing this sunday night\"]\n",
        "sequences = tokenizer.texts_to_sequences(sentence)\n",
        "padded = pad_sequences(sequences, maxlen=max_length, padding=padding_type, truncating=trunc_type)\n",
        "print(model.predict(padded))"
      ],
      "execution_count": 21,
      "outputs": [
        {
          "output_type": "stream",
          "text": [
            "[[0.8734309]\n",
            " [0.       ]]\n"
          ],
          "name": "stdout"
        }
      ]
    },
    {
      "cell_type": "code",
      "metadata": {
        "id": "yg_tEKomRjOM",
        "colab_type": "code",
        "colab": {}
      },
      "source": [
        ""
      ],
      "execution_count": null,
      "outputs": []
    }
  ]
}