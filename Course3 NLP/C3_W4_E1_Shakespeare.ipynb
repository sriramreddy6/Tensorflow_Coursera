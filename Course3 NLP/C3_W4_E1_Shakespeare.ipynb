{
  "nbformat": 4,
  "nbformat_minor": 0,
  "metadata": {
    "colab": {
      "name": "C3_W4_E1_Shakespeare.ipynb",
      "provenance": []
    },
    "kernelspec": {
      "name": "python3",
      "display_name": "Python 3"
    },
    "accelerator": "GPU"
  },
  "cells": [
    {
      "cell_type": "markdown",
      "metadata": {
        "id": "cpmj-w_NeWE5",
        "colab_type": "text"
      },
      "source": [
        "**C3_W4_E1_Shakespeare**"
      ]
    },
    {
      "cell_type": "code",
      "metadata": {
        "id": "oy64Uhd3eMOb",
        "colab_type": "code",
        "colab": {}
      },
      "source": [
        "from tensorflow.keras.preprocessing.sequence import pad_sequences\n",
        "from tensorflow.keras.preprocessing.text import Tokenizer\n",
        "from tensorflow.keras.models import Sequential\n",
        "from tensorflow.keras.layers import Embedding, LSTM, Dense, Dropout, Bidirectional\n",
        "from tensorflow.keras.optimizers import Adam\n",
        "from tensorflow.keras import regularizers\n",
        "import tensorflow.keras.utils as ku\n",
        "import numpy as np"
      ],
      "execution_count": 1,
      "outputs": []
    },
    {
      "cell_type": "code",
      "metadata": {
        "id": "iQUl0QFZfOmR",
        "colab_type": "code",
        "colab": {
          "base_uri": "https://localhost:8080/",
          "height": 204
        },
        "outputId": "57f31f5c-04aa-4ddc-c593-a29866084871"
      },
      "source": [
        "!wget --no-check-certificate \\\n",
        "    https://storage.googleapis.com/laurencemoroney-blog.appspot.com/sonnets.txt \\\n",
        "    -O /tmp/sonnets.txt"
      ],
      "execution_count": 2,
      "outputs": [
        {
          "output_type": "stream",
          "text": [
            "--2020-09-12 13:24:41--  https://storage.googleapis.com/laurencemoroney-blog.appspot.com/sonnets.txt\n",
            "Resolving storage.googleapis.com (storage.googleapis.com)... 74.125.143.128, 173.194.69.128, 173.194.79.128, ...\n",
            "Connecting to storage.googleapis.com (storage.googleapis.com)|74.125.143.128|:443... connected.\n",
            "HTTP request sent, awaiting response... 200 OK\n",
            "Length: 93578 (91K) [text/plain]\n",
            "Saving to: ‘/tmp/sonnets.txt’\n",
            "\n",
            "/tmp/sonnets.txt    100%[===================>]  91.38K  --.-KB/s    in 0.001s  \n",
            "\n",
            "2020-09-12 13:24:41 (108 MB/s) - ‘/tmp/sonnets.txt’ saved [93578/93578]\n",
            "\n"
          ],
          "name": "stdout"
        }
      ]
    },
    {
      "cell_type": "code",
      "metadata": {
        "id": "YafLBdpkfUKU",
        "colab_type": "code",
        "colab": {}
      },
      "source": [
        "tokenizer = Tokenizer()\n",
        "\n",
        "data = open('/tmp/sonnets.txt').read()\n",
        "\n",
        "corpus = data.lower().split('\\n')\n",
        "\n",
        "tokenizer.fit_on_texts(corpus)\n",
        "total_words = len(tokenizer.word_index)+1\n",
        "\n",
        "input_sequences= []\n",
        "for line in corpus:\n",
        "  token_list= tokenizer.texts_to_sequences([line])[0]\n",
        "  for i in range(1, len(token_list)):\n",
        "    n_gram_sequence = token_list[:i+1]\n",
        "    input_sequences.append(n_gram_sequence)\n",
        "\n",
        "max_sequence_len = max([len(x) for x in input_sequences])\n",
        "input_sequences = np.array(pad_sequences(input_sequences, maxlen= max_sequence_len, padding= 'pre'))\n",
        "\n",
        "predictors, label = input_sequences[:,:-1], input_sequences[:,-1]\n",
        "\n",
        "label = ku.to_categorical(label, num_classes= total_words)"
      ],
      "execution_count": 7,
      "outputs": []
    },
    {
      "cell_type": "code",
      "metadata": {
        "id": "QDmpU498fkMF",
        "colab_type": "code",
        "colab": {
          "base_uri": "https://localhost:8080/",
          "height": 374
        },
        "outputId": "f0019965-0a9b-4cb3-a731-55ba6a6fff61"
      },
      "source": [
        "model = Sequential()\n",
        "model.add(Embedding(total_words, 100, input_length=max_sequence_len-1))\n",
        "model.add(Bidirectional(LSTM(150, return_sequences = True)))\n",
        "model.add(Dropout(0.2))\n",
        "model.add(LSTM(100))\n",
        "model.add(Dense(total_words/2, activation='relu', kernel_regularizer=regularizers.l2(0.01)))\n",
        "model.add(Dense(total_words, activation='softmax'))\n",
        "model.compile(loss='categorical_crossentropy', optimizer='adam', metrics=['accuracy'])\n",
        "print(model.summary())\n"
      ],
      "execution_count": 11,
      "outputs": [
        {
          "output_type": "stream",
          "text": [
            "Model: \"sequential\"\n",
            "_________________________________________________________________\n",
            "Layer (type)                 Output Shape              Param #   \n",
            "=================================================================\n",
            "embedding (Embedding)        (None, 10, 100)           321100    \n",
            "_________________________________________________________________\n",
            "bidirectional (Bidirectional (None, 10, 300)           301200    \n",
            "_________________________________________________________________\n",
            "dropout (Dropout)            (None, 10, 300)           0         \n",
            "_________________________________________________________________\n",
            "lstm_1 (LSTM)                (None, 100)               160400    \n",
            "_________________________________________________________________\n",
            "dense (Dense)                (None, 1605)              162105    \n",
            "_________________________________________________________________\n",
            "dense_1 (Dense)              (None, 3211)              5156866   \n",
            "=================================================================\n",
            "Total params: 6,101,671\n",
            "Trainable params: 6,101,671\n",
            "Non-trainable params: 0\n",
            "_________________________________________________________________\n",
            "None\n"
          ],
          "name": "stdout"
        }
      ]
    },
    {
      "cell_type": "code",
      "metadata": {
        "id": "qOPykUKrkcEu",
        "colab_type": "code",
        "colab": {
          "base_uri": "https://localhost:8080/",
          "height": 1000
        },
        "outputId": "95a8434e-95b5-4e1f-80ba-9ca42acbed39"
      },
      "source": [
        " history = model.fit(predictors, label, epochs=100, verbose=1)"
      ],
      "execution_count": 12,
      "outputs": [
        {
          "output_type": "stream",
          "text": [
            "Epoch 1/100\n",
            "484/484 [==============================] - 6s 12ms/step - loss: 6.9000 - accuracy: 0.0217\n",
            "Epoch 2/100\n",
            "484/484 [==============================] - 6s 12ms/step - loss: 6.5017 - accuracy: 0.0211\n",
            "Epoch 3/100\n",
            "484/484 [==============================] - 6s 12ms/step - loss: 6.4038 - accuracy: 0.0255\n",
            "Epoch 4/100\n",
            "484/484 [==============================] - 6s 12ms/step - loss: 6.2836 - accuracy: 0.0308\n",
            "Epoch 5/100\n",
            "484/484 [==============================] - 6s 12ms/step - loss: 6.1995 - accuracy: 0.0366\n",
            "Epoch 6/100\n",
            "484/484 [==============================] - 6s 11ms/step - loss: 6.1236 - accuracy: 0.0384\n",
            "Epoch 7/100\n",
            "484/484 [==============================] - 6s 12ms/step - loss: 6.0427 - accuracy: 0.0401\n",
            "Epoch 8/100\n",
            "484/484 [==============================] - 6s 12ms/step - loss: 5.9587 - accuracy: 0.0448\n",
            "Epoch 9/100\n",
            "484/484 [==============================] - 6s 12ms/step - loss: 5.8587 - accuracy: 0.0492\n",
            "Epoch 10/100\n",
            "484/484 [==============================] - 6s 11ms/step - loss: 5.7581 - accuracy: 0.0553\n",
            "Epoch 11/100\n",
            "484/484 [==============================] - 6s 12ms/step - loss: 5.6571 - accuracy: 0.0624\n",
            "Epoch 12/100\n",
            "484/484 [==============================] - 6s 12ms/step - loss: 5.5586 - accuracy: 0.0676\n",
            "Epoch 13/100\n",
            "484/484 [==============================] - 6s 12ms/step - loss: 5.4611 - accuracy: 0.0710\n",
            "Epoch 14/100\n",
            "484/484 [==============================] - 6s 12ms/step - loss: 5.3565 - accuracy: 0.0818\n",
            "Epoch 15/100\n",
            "484/484 [==============================] - 6s 12ms/step - loss: 5.2539 - accuracy: 0.0903\n",
            "Epoch 16/100\n",
            "484/484 [==============================] - 6s 12ms/step - loss: 5.1555 - accuracy: 0.0960\n",
            "Epoch 17/100\n",
            "484/484 [==============================] - 6s 12ms/step - loss: 5.0532 - accuracy: 0.1063\n",
            "Epoch 18/100\n",
            "484/484 [==============================] - 6s 11ms/step - loss: 4.9480 - accuracy: 0.1151\n",
            "Epoch 19/100\n",
            "484/484 [==============================] - 6s 11ms/step - loss: 4.8497 - accuracy: 0.1240\n",
            "Epoch 20/100\n",
            "484/484 [==============================] - 6s 12ms/step - loss: 4.7491 - accuracy: 0.1323\n",
            "Epoch 21/100\n",
            "484/484 [==============================] - 6s 11ms/step - loss: 4.6464 - accuracy: 0.1409\n",
            "Epoch 22/100\n",
            "484/484 [==============================] - 6s 12ms/step - loss: 4.5488 - accuracy: 0.1510\n",
            "Epoch 23/100\n",
            "484/484 [==============================] - 6s 12ms/step - loss: 4.4397 - accuracy: 0.1630\n",
            "Epoch 24/100\n",
            "484/484 [==============================] - 6s 11ms/step - loss: 4.3440 - accuracy: 0.1732\n",
            "Epoch 25/100\n",
            "484/484 [==============================] - 6s 11ms/step - loss: 4.2473 - accuracy: 0.1851\n",
            "Epoch 26/100\n",
            "484/484 [==============================] - 6s 11ms/step - loss: 4.1443 - accuracy: 0.1963\n",
            "Epoch 27/100\n",
            "484/484 [==============================] - 6s 13ms/step - loss: 4.0471 - accuracy: 0.2096\n",
            "Epoch 28/100\n",
            "484/484 [==============================] - 6s 12ms/step - loss: 3.9481 - accuracy: 0.2240\n",
            "Epoch 29/100\n",
            "484/484 [==============================] - 6s 11ms/step - loss: 3.8454 - accuracy: 0.2381\n",
            "Epoch 30/100\n",
            "484/484 [==============================] - 6s 11ms/step - loss: 3.7581 - accuracy: 0.2537\n",
            "Epoch 31/100\n",
            "484/484 [==============================] - 6s 11ms/step - loss: 3.6558 - accuracy: 0.2689\n",
            "Epoch 32/100\n",
            "484/484 [==============================] - 6s 11ms/step - loss: 3.5671 - accuracy: 0.2840\n",
            "Epoch 33/100\n",
            "484/484 [==============================] - 6s 11ms/step - loss: 3.4816 - accuracy: 0.3025\n",
            "Epoch 34/100\n",
            "484/484 [==============================] - 6s 12ms/step - loss: 3.3977 - accuracy: 0.3196\n",
            "Epoch 35/100\n",
            "484/484 [==============================] - 6s 11ms/step - loss: 3.3158 - accuracy: 0.3402\n",
            "Epoch 36/100\n",
            "484/484 [==============================] - 6s 11ms/step - loss: 3.2206 - accuracy: 0.3624\n",
            "Epoch 37/100\n",
            "484/484 [==============================] - 6s 12ms/step - loss: 3.1400 - accuracy: 0.3828\n",
            "Epoch 38/100\n",
            "484/484 [==============================] - 6s 12ms/step - loss: 3.0731 - accuracy: 0.3952\n",
            "Epoch 39/100\n",
            "484/484 [==============================] - 6s 12ms/step - loss: 2.9956 - accuracy: 0.4138\n",
            "Epoch 40/100\n",
            "484/484 [==============================] - 6s 12ms/step - loss: 2.9320 - accuracy: 0.4274\n",
            "Epoch 41/100\n",
            "484/484 [==============================] - 6s 12ms/step - loss: 2.8661 - accuracy: 0.4430\n",
            "Epoch 42/100\n",
            "484/484 [==============================] - 6s 12ms/step - loss: 2.7902 - accuracy: 0.4597\n",
            "Epoch 43/100\n",
            "484/484 [==============================] - 6s 12ms/step - loss: 2.7297 - accuracy: 0.4715\n",
            "Epoch 44/100\n",
            "484/484 [==============================] - 6s 12ms/step - loss: 2.6765 - accuracy: 0.4843\n",
            "Epoch 45/100\n",
            "484/484 [==============================] - 6s 12ms/step - loss: 2.6021 - accuracy: 0.5036\n",
            "Epoch 46/100\n",
            "484/484 [==============================] - 6s 11ms/step - loss: 2.5461 - accuracy: 0.5179\n",
            "Epoch 47/100\n",
            "484/484 [==============================] - 6s 11ms/step - loss: 2.4825 - accuracy: 0.5347\n",
            "Epoch 48/100\n",
            "484/484 [==============================] - 6s 12ms/step - loss: 2.4510 - accuracy: 0.5363\n",
            "Epoch 49/100\n",
            "484/484 [==============================] - 6s 12ms/step - loss: 2.3920 - accuracy: 0.5492\n",
            "Epoch 50/100\n",
            "484/484 [==============================] - 6s 12ms/step - loss: 2.3404 - accuracy: 0.5612\n",
            "Epoch 51/100\n",
            "484/484 [==============================] - 6s 12ms/step - loss: 2.2916 - accuracy: 0.5700\n",
            "Epoch 52/100\n",
            "484/484 [==============================] - 6s 12ms/step - loss: 2.2423 - accuracy: 0.5828\n",
            "Epoch 53/100\n",
            "484/484 [==============================] - 6s 12ms/step - loss: 2.2033 - accuracy: 0.5919\n",
            "Epoch 54/100\n",
            "484/484 [==============================] - 6s 12ms/step - loss: 2.1625 - accuracy: 0.6015\n",
            "Epoch 55/100\n",
            "484/484 [==============================] - 6s 12ms/step - loss: 2.1318 - accuracy: 0.6070\n",
            "Epoch 56/100\n",
            "484/484 [==============================] - 6s 12ms/step - loss: 2.0956 - accuracy: 0.6132\n",
            "Epoch 57/100\n",
            "484/484 [==============================] - 6s 12ms/step - loss: 2.0432 - accuracy: 0.6246\n",
            "Epoch 58/100\n",
            "484/484 [==============================] - 6s 12ms/step - loss: 1.9968 - accuracy: 0.6383\n",
            "Epoch 59/100\n",
            "484/484 [==============================] - 6s 11ms/step - loss: 1.9540 - accuracy: 0.6473\n",
            "Epoch 60/100\n",
            "484/484 [==============================] - 6s 12ms/step - loss: 1.9357 - accuracy: 0.6480\n",
            "Epoch 61/100\n",
            "484/484 [==============================] - 6s 12ms/step - loss: 1.8909 - accuracy: 0.6618\n",
            "Epoch 62/100\n",
            "484/484 [==============================] - 6s 11ms/step - loss: 1.8672 - accuracy: 0.6656\n",
            "Epoch 63/100\n",
            "484/484 [==============================] - 6s 12ms/step - loss: 1.8303 - accuracy: 0.6730\n",
            "Epoch 64/100\n",
            "484/484 [==============================] - 6s 12ms/step - loss: 1.7993 - accuracy: 0.6826\n",
            "Epoch 65/100\n",
            "484/484 [==============================] - 6s 12ms/step - loss: 1.7724 - accuracy: 0.6861\n",
            "Epoch 66/100\n",
            "484/484 [==============================] - 6s 12ms/step - loss: 1.7432 - accuracy: 0.6905\n",
            "Epoch 67/100\n",
            "484/484 [==============================] - 6s 11ms/step - loss: 1.7215 - accuracy: 0.6963\n",
            "Epoch 68/100\n",
            "484/484 [==============================] - 6s 12ms/step - loss: 1.6921 - accuracy: 0.7014\n",
            "Epoch 69/100\n",
            "484/484 [==============================] - 6s 11ms/step - loss: 1.6591 - accuracy: 0.7083\n",
            "Epoch 70/100\n",
            "484/484 [==============================] - 6s 12ms/step - loss: 1.6376 - accuracy: 0.7124\n",
            "Epoch 71/100\n",
            "484/484 [==============================] - 6s 12ms/step - loss: 1.6162 - accuracy: 0.7158\n",
            "Epoch 72/100\n",
            "484/484 [==============================] - 6s 12ms/step - loss: 1.5896 - accuracy: 0.7228\n",
            "Epoch 73/100\n",
            "484/484 [==============================] - 6s 12ms/step - loss: 1.5671 - accuracy: 0.7262\n",
            "Epoch 74/100\n",
            "484/484 [==============================] - 6s 12ms/step - loss: 1.5325 - accuracy: 0.7352\n",
            "Epoch 75/100\n",
            "484/484 [==============================] - 6s 11ms/step - loss: 1.5129 - accuracy: 0.7396\n",
            "Epoch 76/100\n",
            "484/484 [==============================] - 6s 12ms/step - loss: 1.5017 - accuracy: 0.7414\n",
            "Epoch 77/100\n",
            "484/484 [==============================] - 6s 12ms/step - loss: 1.4914 - accuracy: 0.7389\n",
            "Epoch 78/100\n",
            "484/484 [==============================] - 6s 13ms/step - loss: 1.4652 - accuracy: 0.7473\n",
            "Epoch 79/100\n",
            "484/484 [==============================] - 6s 12ms/step - loss: 1.4446 - accuracy: 0.7482\n",
            "Epoch 80/100\n",
            "484/484 [==============================] - 6s 12ms/step - loss: 1.4152 - accuracy: 0.7560\n",
            "Epoch 81/100\n",
            "484/484 [==============================] - 6s 12ms/step - loss: 1.4071 - accuracy: 0.7582\n",
            "Epoch 82/100\n",
            "484/484 [==============================] - 6s 11ms/step - loss: 1.3934 - accuracy: 0.7606\n",
            "Epoch 83/100\n",
            "484/484 [==============================] - 6s 12ms/step - loss: 1.3841 - accuracy: 0.7602\n",
            "Epoch 84/100\n",
            "484/484 [==============================] - 6s 12ms/step - loss: 1.3673 - accuracy: 0.7639\n",
            "Epoch 85/100\n",
            "484/484 [==============================] - 6s 12ms/step - loss: 1.3391 - accuracy: 0.7720\n",
            "Epoch 86/100\n",
            "484/484 [==============================] - 6s 11ms/step - loss: 1.3160 - accuracy: 0.7723\n",
            "Epoch 87/100\n",
            "484/484 [==============================] - 6s 11ms/step - loss: 1.3012 - accuracy: 0.7757\n",
            "Epoch 88/100\n",
            "484/484 [==============================] - 6s 12ms/step - loss: 1.2937 - accuracy: 0.7787\n",
            "Epoch 89/100\n",
            "484/484 [==============================] - 6s 12ms/step - loss: 1.2785 - accuracy: 0.7819\n",
            "Epoch 90/100\n",
            "484/484 [==============================] - 6s 11ms/step - loss: 1.2800 - accuracy: 0.7786\n",
            "Epoch 91/100\n",
            "484/484 [==============================] - 5s 11ms/step - loss: 1.2577 - accuracy: 0.7849\n",
            "Epoch 92/100\n",
            "484/484 [==============================] - 6s 11ms/step - loss: 1.2482 - accuracy: 0.7857\n",
            "Epoch 93/100\n",
            "484/484 [==============================] - 6s 12ms/step - loss: 1.2254 - accuracy: 0.7913\n",
            "Epoch 94/100\n",
            "484/484 [==============================] - 6s 13ms/step - loss: 1.2143 - accuracy: 0.7930\n",
            "Epoch 95/100\n",
            "484/484 [==============================] - 6s 12ms/step - loss: 1.2045 - accuracy: 0.7906\n",
            "Epoch 96/100\n",
            "484/484 [==============================] - 6s 11ms/step - loss: 1.2185 - accuracy: 0.7866\n",
            "Epoch 97/100\n",
            "484/484 [==============================] - 6s 11ms/step - loss: 1.1958 - accuracy: 0.7935\n",
            "Epoch 98/100\n",
            "484/484 [==============================] - 6s 12ms/step - loss: 1.1826 - accuracy: 0.7934\n",
            "Epoch 99/100\n",
            "484/484 [==============================] - 6s 12ms/step - loss: 1.1685 - accuracy: 0.7974\n",
            "Epoch 100/100\n",
            "484/484 [==============================] - 6s 12ms/step - loss: 1.1563 - accuracy: 0.7998\n"
          ],
          "name": "stdout"
        }
      ]
    },
    {
      "cell_type": "code",
      "metadata": {
        "id": "ekWdH30mk0fk",
        "colab_type": "code",
        "colab": {
          "base_uri": "https://localhost:8080/",
          "height": 545
        },
        "outputId": "ddf25364-c6e4-45ba-eabb-a1a886ca855b"
      },
      "source": [
        "import matplotlib.pyplot as plt\n",
        "acc = history.history['accuracy']\n",
        "loss = history.history['loss']\n",
        "\n",
        "epochs = range(len(acc))\n",
        "\n",
        "plt.plot(epochs, acc, 'b', label='Training accuracy')\n",
        "plt.title('Training accuracy')\n",
        "\n",
        "plt.figure()\n",
        "\n",
        "plt.plot(epochs, loss, 'b', label='Training Loss')\n",
        "plt.title('Training loss')\n",
        "plt.legend()\n",
        "\n",
        "plt.show()"
      ],
      "execution_count": 13,
      "outputs": [
        {
          "output_type": "display_data",
          "data": {
            "image/png": "[encoded data removed]",
            "text/plain": [
              "<Figure size 432x288 with 1 Axes>"
            ]
          },
          "metadata": {
            "tags": [],
            "needs_background": "light"
          }
        },
        {
          "output_type": "display_data",
          "data": {
            "image/png": "[encoded data removed]",
            "text/plain": [
              "<Figure size 432x288 with 1 Axes>"
            ]
          },
          "metadata": {
            "tags": [],
            "needs_background": "light"
          }
        }
      ]
    },
    {
      "cell_type": "code",
      "metadata": {
        "id": "oCC7tP0ik4jn",
        "colab_type": "code",
        "colab": {
          "base_uri": "https://localhost:8080/",
          "height": 105
        },
        "outputId": "ce38987a-397c-4810-b661-3dbe942276a9"
      },
      "source": [
        "seed_text = \"Help me Obi Wan Kenobi, you're my only hope\"\n",
        "next_words = 100\n",
        "  \n",
        "for _ in range(next_words):\n",
        "\ttoken_list = tokenizer.texts_to_sequences([seed_text])[0]\n",
        "\ttoken_list = pad_sequences([token_list], maxlen=max_sequence_len-1, padding='pre')\n",
        "\tpredicted = model.predict_classes(token_list, verbose=0)\n",
        "\toutput_word = \"\"\n",
        "\tfor word, index in tokenizer.word_index.items():\n",
        "\t\tif index == predicted:\n",
        "\t\t\toutput_word = word\n",
        "\t\t\tbreak\n",
        "\tseed_text += \" \" + output_word\n",
        "print(seed_text)"
      ],
      "execution_count": 14,
      "outputs": [
        {
          "output_type": "stream",
          "text": [
            "WARNING:tensorflow:From <ipython-input-14-622d307fa19a>:7: Sequential.predict_classes (from tensorflow.python.keras.engine.sequential) is deprecated and will be removed after 2021-01-01.\n",
            "Instructions for updating:\n",
            "Please use instead:* `np.argmax(model.predict(x), axis=-1)`,   if your model does multi-class classification   (e.g. if it uses a `softmax` last-layer activation).* `(model.predict(x) > 0.5).astype(\"int32\")`,   if your model does binary classification   (e.g. if it uses a `sigmoid` last-layer activation).\n",
            "Help me Obi Wan Kenobi, you're my only hope thy power to despise invent sit exceed ward white back so strong friend doth near place mind ' was foes lie with her head to change decay his brow ' be twain ' still still die lived and bring his deeds doth decay go well rhyme delight date out good date after men white rage face forbear in woe lies bright prove bright ' go well 'will' days inhearse quite gone with thy feature spent brought to invent ride exceeds shines have mind men night new doth lie in her might in write in thine heart thine eyes my eye\n"
          ],
          "name": "stdout"
        }
      ]
    }
  ]
}