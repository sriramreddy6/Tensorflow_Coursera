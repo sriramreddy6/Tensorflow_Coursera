{
  "nbformat": 4,
  "nbformat_minor": 0,
  "metadata": {
    "colab": {
      "name": "C3_W3_E1_TransferLearning_Embedding.ipynb",
      "provenance": [],
      "collapsed_sections": []
    },
    "kernelspec": {
      "name": "python3",
      "display_name": "Python 3"
    }
  },
  "cells": [
    {
      "cell_type": "markdown",
      "metadata": {
        "id": "mLEbtmtWvBvB",
        "colab_type": "text"
      },
      "source": [
        "**C3_W3_E1_TransferLearning_Embedding**"
      ]
    },
    {
      "cell_type": "code",
      "metadata": {
        "id": "f9vLbIiYuyTJ",
        "colab_type": "code",
        "colab": {}
      },
      "source": [
        "import json\n",
        "import tensorflow as tf\n",
        "import numpy as np\n",
        "import random\n",
        "import csv\n",
        "\n",
        "from tensorflow.keras.preprocessing.text import Tokenizer\n",
        "from tensorflow.keras.preprocessing.sequence import pad_sequences\n",
        "from tensorflow.keras.utils import to_categorical\n",
        "from tensorflow.keras import regularizers"
      ],
      "execution_count": null,
      "outputs": []
    },
    {
      "cell_type": "code",
      "metadata": {
        "id": "q1Y5WNehvvz9",
        "colab_type": "code",
        "colab": {}
      },
      "source": [
        "embedding_dim= 100\n",
        "max_length = 16\n",
        "trunc_type= 'post'\n",
        "padding_type= 'post'\n",
        "oov_tok= '<OOV>'\n",
        "training_size= 160000\n",
        "test_portion= .1\n",
        "\n",
        "corpus= []"
      ],
      "execution_count": null,
      "outputs": []
    },
    {
      "cell_type": "code",
      "metadata": {
        "id": "yvcRtJqhwPtB",
        "colab_type": "code",
        "colab": {
          "base_uri": "https://localhost:8080/",
          "height": 204
        },
        "outputId": "e24de2fe-a8dd-43d2-c811-2cde2eb221db"
      },
      "source": [
        "!wget --no-check-certificate \\\n",
        "    https://storage.googleapis.com/laurencemoroney-blog.appspot.com/training_cleaned.csv \\\n",
        "    -O /tmp/training_cleaned.csv"
      ],
      "execution_count": null,
      "outputs": [
        {
          "output_type": "stream",
          "text": [
            "--2020-09-12 09:59:13--  https://storage.googleapis.com/laurencemoroney-blog.appspot.com/training_cleaned.csv\n",
            "Resolving storage.googleapis.com (storage.googleapis.com)... 173.194.214.128, 64.233.170.128, 172.217.193.128, ...\n",
            "Connecting to storage.googleapis.com (storage.googleapis.com)|173.194.214.128|:443... connected.\n",
            "HTTP request sent, awaiting response... 200 OK\n",
            "Length: 238942690 (228M) [application/octet-stream]\n",
            "Saving to: ‘/tmp/training_cleaned.csv’\n",
            "\n",
            "/tmp/training_clean 100%[===================>] 227.87M   130MB/s    in 1.7s    \n",
            "\n",
            "2020-09-12 09:59:15 (130 MB/s) - ‘/tmp/training_cleaned.csv’ saved [238942690/238942690]\n",
            "\n"
          ],
          "name": "stdout"
        }
      ]
    },
    {
      "cell_type": "code",
      "metadata": {
        "id": "QPbMTqYlwSf-",
        "colab_type": "code",
        "colab": {}
      },
      "source": [
        "num_sentences= 0\n",
        "\n",
        "with open('/tmp/training_cleaned.csv', 'r') as csvfile:\n",
        "  reader= csv.reader(csvfile, delimiter=',')\n",
        "  for row in reader:\n",
        "    list_item=[]\n",
        "    list_item.append(row[5])\n",
        "    this_label=row[0]\n",
        "    if this_label=='0':\n",
        "      list_item.append(0)\n",
        "    else:\n",
        "      list_item.append(1)\n",
        "    num_sentences = num_sentences+1\n",
        "    corpus.append(list_item)\n"
      ],
      "execution_count": 19,
      "outputs": []
    },
    {
      "cell_type": "code",
      "metadata": {
        "id": "mJ-21SE9xGM3",
        "colab_type": "code",
        "colab": {
          "base_uri": "https://localhost:8080/",
          "height": 68
        },
        "outputId": "784218d7-e0a5-472d-8a31-5024f271e099"
      },
      "source": [
        "print(num_sentences)\n",
        "print(len(corpus))\n",
        "print(corpus[1])"
      ],
      "execution_count": 20,
      "outputs": [
        {
          "output_type": "stream",
          "text": [
            "1600000\n",
            "3200000\n",
            "[\"is upset that he can't update his Facebook by texting it... and might cry as a result  School today also. Blah!\", 0]\n"
          ],
          "name": "stdout"
        }
      ]
    },
    {
      "cell_type": "code",
      "metadata": {
        "id": "EiqqsN8-2Zkb",
        "colab_type": "code",
        "colab": {}
      },
      "source": [
        "sentences=[]\n",
        "labels=[]\n",
        "\n",
        "random.shuffle(corpus)\n",
        "for x in range(training_size):\n",
        "  sentences.append(corpus[x][0])\n",
        "  labels.append(corpus[x][1])\n",
        "\n",
        "tokenizer= Tokenizer()\n",
        "tokenizer.fit_on_texts(sentences)\n",
        "\n",
        "word_index= tokenizer.word_index\n",
        "vocab_size= len(word_index)\n",
        "\n",
        "sequences = tokenizer.texts_to_sequences(sentences)\n",
        "padded = pad_sequences(sequences, maxlen= max_length, padding= padding_type, truncating= trunc_type)\n",
        "\n",
        "split = int(test_portion * training_size)\n",
        "\n",
        "test_sequences = padded[0:split]\n",
        "training_sequences = padded[split:training_size]\n",
        "test_labels = labels[0:split]\n",
        "training_labels = labels[split:training_size]"
      ],
      "execution_count": 23,
      "outputs": []
    },
    {
      "cell_type": "code",
      "metadata": {
        "id": "LHmK6WWA3HVj",
        "colab_type": "code",
        "colab": {
          "base_uri": "https://localhost:8080/",
          "height": 51
        },
        "outputId": "143f8ab9-1dc5-4edb-b94f-fb9a7afa4cec"
      },
      "source": [
        "print(vocab_size)\n",
        "print(word_index['happy'])"
      ],
      "execution_count": 26,
      "outputs": [
        {
          "output_type": "stream",
          "text": [
            "135821\n",
            "121\n"
          ],
          "name": "stdout"
        }
      ]
    },
    {
      "cell_type": "code",
      "metadata": {
        "id": "NAs33djm50NB",
        "colab_type": "code",
        "colab": {
          "base_uri": "https://localhost:8080/",
          "height": 204
        },
        "outputId": "789c44ca-6700-4169-f8ca-a218a452ffb1"
      },
      "source": [
        "!wget --no-check-certificate \\\n",
        "    https://storage.googleapis.com/laurencemoroney-blog.appspot.com/glove.6B.100d.txt \\\n",
        "    -O /tmp/glove.6B.100d.txt"
      ],
      "execution_count": 27,
      "outputs": [
        {
          "output_type": "stream",
          "text": [
            "--2020-09-12 10:46:05--  https://storage.googleapis.com/laurencemoroney-blog.appspot.com/glove.6B.100d.txt\n",
            "Resolving storage.googleapis.com (storage.googleapis.com)... 108.177.12.128, 172.217.204.128, 172.217.203.128, ...\n",
            "Connecting to storage.googleapis.com (storage.googleapis.com)|108.177.12.128|:443... connected.\n",
            "HTTP request sent, awaiting response... 200 OK\n",
            "Length: 347116733 (331M) [text/plain]\n",
            "Saving to: ‘/tmp/glove.6B.100d.txt’\n",
            "\n",
            "/tmp/glove.6B.100d. 100%[===================>] 331.04M   168MB/s    in 2.0s    \n",
            "\n",
            "2020-09-12 10:46:07 (168 MB/s) - ‘/tmp/glove.6B.100d.txt’ saved [347116733/347116733]\n",
            "\n"
          ],
          "name": "stdout"
        }
      ]
    },
    {
      "cell_type": "code",
      "metadata": {
        "id": "3FXt1-RT7A9a",
        "colab_type": "code",
        "colab": {}
      },
      "source": [
        "embeddings_index = {}\n",
        "\n",
        "with open('/tmp/glove.6B.100d.txt') as f:\n",
        "  for line in f:\n",
        "    values= line.split()\n",
        "    word = values[0]\n",
        "    coefs = np.asarray(values[1:], dtype='float32')\n",
        "    embeddings_index[word] = coefs\n",
        "\n",
        "embeddings_matrix = np.zeros((vocab_size+1, embedding_dim))\n",
        "\n",
        "for word, i in word_index.items():\n",
        "  embedding_vector = embeddings_index.get(word)\n",
        "  if embedding_vector is not None:\n",
        "    embeddings_matrix[i] = embedding_vector\n",
        "\n"
      ],
      "execution_count": 34,
      "outputs": []
    },
    {
      "cell_type": "code",
      "metadata": {
        "id": "inu5J25T7lez",
        "colab_type": "code",
        "colab": {
          "base_uri": "https://localhost:8080/",
          "height": 34
        },
        "outputId": "0ae66450-8eb1-4668-b4e4-81f08c0c6e10"
      },
      "source": [
        "print(len(embeddings_matrix))"
      ],
      "execution_count": 35,
      "outputs": [
        {
          "output_type": "stream",
          "text": [
            "135822\n"
          ],
          "name": "stdout"
        }
      ]
    },
    {
      "cell_type": "code",
      "metadata": {
        "id": "kRchJ-_G-W6b",
        "colab_type": "code",
        "colab": {
          "base_uri": "https://localhost:8080/",
          "height": 1000
        },
        "outputId": "6b863c7b-8865-4524-bf70-47d2a4ba0c81"
      },
      "source": [
        "model = tf.keras.Sequential([\n",
        "    tf.keras.layers.Embedding(vocab_size+1, embedding_dim, input_length=max_length, weights=[embeddings_matrix], trainable=False),\n",
        "    tf.keras.layers.Dropout(0.2),\n",
        "    tf.keras.layers.Conv1D(64, 5, activation='relu'),\n",
        "    tf.keras.layers.MaxPooling1D(pool_size=4),\n",
        "    tf.keras.layers.LSTM(64),\n",
        "    tf.keras.layers.Dense(1, activation='sigmoid')\n",
        "])\n",
        "model.compile(loss='binary_crossentropy',optimizer='adam',metrics=['accuracy'])\n",
        "model.summary()\n",
        "\n",
        "num_epochs = 50\n",
        "\n",
        "training_padded = np.array(training_sequences)\n",
        "training_labels = np.array(training_labels)\n",
        "testing_padded = np.array(test_sequences)\n",
        "testing_labels = np.array(test_labels)\n",
        "\n",
        "history = model.fit(training_padded, training_labels, epochs=num_epochs, validation_data=(testing_padded, testing_labels), verbose=2)\n",
        "\n",
        "print(\"Training Complete\")"
      ],
      "execution_count": 36,
      "outputs": [
        {
          "output_type": "stream",
          "text": [
            "Model: \"sequential\"\n",
            "_________________________________________________________________\n",
            "Layer (type)                 Output Shape              Param #   \n",
            "=================================================================\n",
            "embedding (Embedding)        (None, 16, 100)           13582200  \n",
            "_________________________________________________________________\n",
            "dropout (Dropout)            (None, 16, 100)           0         \n",
            "_________________________________________________________________\n",
            "conv1d (Conv1D)              (None, 12, 64)            32064     \n",
            "_________________________________________________________________\n",
            "max_pooling1d (MaxPooling1D) (None, 3, 64)             0         \n",
            "_________________________________________________________________\n",
            "lstm (LSTM)                  (None, 64)                33024     \n",
            "_________________________________________________________________\n",
            "dense (Dense)                (None, 1)                 65        \n",
            "=================================================================\n",
            "Total params: 13,647,353\n",
            "Trainable params: 65,153\n",
            "Non-trainable params: 13,582,200\n",
            "_________________________________________________________________\n",
            "Epoch 1/50\n",
            "4500/4500 - 33s - loss: 0.5677 - accuracy: 0.6995 - val_loss: 0.5291 - val_accuracy: 0.7308\n",
            "Epoch 2/50\n",
            "4500/4500 - 37s - loss: 0.5247 - accuracy: 0.7335 - val_loss: 0.5243 - val_accuracy: 0.7370\n",
            "Epoch 3/50\n",
            "4500/4500 - 32s - loss: 0.5081 - accuracy: 0.7457 - val_loss: 0.5067 - val_accuracy: 0.7503\n",
            "Epoch 4/50\n",
            "4500/4500 - 33s - loss: 0.4964 - accuracy: 0.7546 - val_loss: 0.5044 - val_accuracy: 0.7483\n",
            "Epoch 5/50\n",
            "4500/4500 - 32s - loss: 0.4888 - accuracy: 0.7597 - val_loss: 0.5062 - val_accuracy: 0.7496\n",
            "Epoch 6/50\n",
            "4500/4500 - 31s - loss: 0.4811 - accuracy: 0.7634 - val_loss: 0.5007 - val_accuracy: 0.7519\n",
            "Epoch 7/50\n",
            "4500/4500 - 32s - loss: 0.4763 - accuracy: 0.7667 - val_loss: 0.5003 - val_accuracy: 0.7536\n",
            "Epoch 8/50\n",
            "4500/4500 - 32s - loss: 0.4709 - accuracy: 0.7702 - val_loss: 0.5067 - val_accuracy: 0.7550\n",
            "Epoch 9/50\n",
            "4500/4500 - 31s - loss: 0.4652 - accuracy: 0.7744 - val_loss: 0.5042 - val_accuracy: 0.7523\n",
            "Epoch 10/50\n",
            "4500/4500 - 34s - loss: 0.4623 - accuracy: 0.7755 - val_loss: 0.5022 - val_accuracy: 0.7536\n",
            "Epoch 11/50\n",
            "4500/4500 - 32s - loss: 0.4589 - accuracy: 0.7772 - val_loss: 0.5009 - val_accuracy: 0.7544\n",
            "Epoch 12/50\n",
            "4500/4500 - 36s - loss: 0.4538 - accuracy: 0.7809 - val_loss: 0.5007 - val_accuracy: 0.7581\n",
            "Epoch 13/50\n",
            "4500/4500 - 32s - loss: 0.4538 - accuracy: 0.7807 - val_loss: 0.5026 - val_accuracy: 0.7572\n",
            "Epoch 14/50\n",
            "4500/4500 - 30s - loss: 0.4498 - accuracy: 0.7832 - val_loss: 0.5042 - val_accuracy: 0.7559\n",
            "Epoch 15/50\n",
            "4500/4500 - 30s - loss: 0.4475 - accuracy: 0.7852 - val_loss: 0.5049 - val_accuracy: 0.7549\n",
            "Epoch 16/50\n",
            "4500/4500 - 30s - loss: 0.4458 - accuracy: 0.7855 - val_loss: 0.5081 - val_accuracy: 0.7551\n",
            "Epoch 17/50\n",
            "4500/4500 - 30s - loss: 0.4448 - accuracy: 0.7853 - val_loss: 0.5109 - val_accuracy: 0.7547\n",
            "Epoch 18/50\n",
            "4500/4500 - 30s - loss: 0.4432 - accuracy: 0.7873 - val_loss: 0.5094 - val_accuracy: 0.7536\n",
            "Epoch 19/50\n",
            "4500/4500 - 30s - loss: 0.4413 - accuracy: 0.7879 - val_loss: 0.5168 - val_accuracy: 0.7508\n",
            "Epoch 20/50\n",
            "4500/4500 - 30s - loss: 0.4420 - accuracy: 0.7877 - val_loss: 0.5111 - val_accuracy: 0.7510\n",
            "Epoch 21/50\n",
            "4500/4500 - 31s - loss: 0.4395 - accuracy: 0.7898 - val_loss: 0.5129 - val_accuracy: 0.7515\n",
            "Epoch 22/50\n",
            "4500/4500 - 35s - loss: 0.4370 - accuracy: 0.7914 - val_loss: 0.5092 - val_accuracy: 0.7570\n",
            "Epoch 23/50\n",
            "4500/4500 - 32s - loss: 0.4359 - accuracy: 0.7923 - val_loss: 0.5072 - val_accuracy: 0.7531\n",
            "Epoch 24/50\n",
            "4500/4500 - 30s - loss: 0.4369 - accuracy: 0.7913 - val_loss: 0.5102 - val_accuracy: 0.7538\n",
            "Epoch 25/50\n",
            "4500/4500 - 30s - loss: 0.4336 - accuracy: 0.7937 - val_loss: 0.5096 - val_accuracy: 0.7546\n",
            "Epoch 26/50\n",
            "4500/4500 - 30s - loss: 0.4333 - accuracy: 0.7939 - val_loss: 0.5211 - val_accuracy: 0.7511\n",
            "Epoch 27/50\n",
            "4500/4500 - 30s - loss: 0.4335 - accuracy: 0.7938 - val_loss: 0.5186 - val_accuracy: 0.7478\n",
            "Epoch 28/50\n",
            "4500/4500 - 30s - loss: 0.4337 - accuracy: 0.7918 - val_loss: 0.5174 - val_accuracy: 0.7527\n",
            "Epoch 29/50\n",
            "4500/4500 - 30s - loss: 0.4329 - accuracy: 0.7930 - val_loss: 0.5152 - val_accuracy: 0.7525\n",
            "Epoch 30/50\n",
            "4500/4500 - 33s - loss: 0.4312 - accuracy: 0.7946 - val_loss: 0.5201 - val_accuracy: 0.7517\n",
            "Epoch 31/50\n",
            "4500/4500 - 30s - loss: 0.4306 - accuracy: 0.7945 - val_loss: 0.5164 - val_accuracy: 0.7518\n",
            "Epoch 32/50\n",
            "4500/4500 - 32s - loss: 0.4304 - accuracy: 0.7950 - val_loss: 0.5192 - val_accuracy: 0.7496\n",
            "Epoch 33/50\n",
            "4500/4500 - 35s - loss: 0.4292 - accuracy: 0.7944 - val_loss: 0.5166 - val_accuracy: 0.7498\n",
            "Epoch 34/50\n",
            "4500/4500 - 31s - loss: 0.4296 - accuracy: 0.7964 - val_loss: 0.5177 - val_accuracy: 0.7553\n",
            "Epoch 35/50\n",
            "4500/4500 - 31s - loss: 0.4289 - accuracy: 0.7970 - val_loss: 0.5134 - val_accuracy: 0.7521\n",
            "Epoch 36/50\n",
            "4500/4500 - 31s - loss: 0.4294 - accuracy: 0.7947 - val_loss: 0.5136 - val_accuracy: 0.7519\n",
            "Epoch 37/50\n",
            "4500/4500 - 31s - loss: 0.4285 - accuracy: 0.7957 - val_loss: 0.5176 - val_accuracy: 0.7569\n",
            "Epoch 38/50\n",
            "4500/4500 - 31s - loss: 0.4271 - accuracy: 0.7966 - val_loss: 0.5209 - val_accuracy: 0.7522\n",
            "Epoch 39/50\n",
            "4500/4500 - 31s - loss: 0.4275 - accuracy: 0.7965 - val_loss: 0.5159 - val_accuracy: 0.7514\n",
            "Epoch 40/50\n",
            "4500/4500 - 30s - loss: 0.4243 - accuracy: 0.7986 - val_loss: 0.5176 - val_accuracy: 0.7491\n",
            "Epoch 41/50\n",
            "4500/4500 - 30s - loss: 0.4250 - accuracy: 0.7984 - val_loss: 0.5162 - val_accuracy: 0.7527\n",
            "Epoch 42/50\n",
            "4500/4500 - 31s - loss: 0.4250 - accuracy: 0.7979 - val_loss: 0.5104 - val_accuracy: 0.7549\n",
            "Epoch 43/50\n",
            "4500/4500 - 39s - loss: 0.4265 - accuracy: 0.7968 - val_loss: 0.5143 - val_accuracy: 0.7517\n",
            "Epoch 44/50\n",
            "4500/4500 - 31s - loss: 0.4247 - accuracy: 0.7983 - val_loss: 0.5190 - val_accuracy: 0.7534\n",
            "Epoch 45/50\n",
            "4500/4500 - 31s - loss: 0.4249 - accuracy: 0.7978 - val_loss: 0.5223 - val_accuracy: 0.7511\n",
            "Epoch 46/50\n",
            "4500/4500 - 30s - loss: 0.4239 - accuracy: 0.7984 - val_loss: 0.5215 - val_accuracy: 0.7481\n",
            "Epoch 47/50\n",
            "4500/4500 - 31s - loss: 0.4243 - accuracy: 0.7991 - val_loss: 0.5223 - val_accuracy: 0.7517\n",
            "Epoch 48/50\n",
            "4500/4500 - 30s - loss: 0.4223 - accuracy: 0.7996 - val_loss: 0.5205 - val_accuracy: 0.7499\n",
            "Epoch 49/50\n",
            "4500/4500 - 33s - loss: 0.4241 - accuracy: 0.7988 - val_loss: 0.5181 - val_accuracy: 0.7531\n",
            "Epoch 50/50\n",
            "4500/4500 - 30s - loss: 0.4234 - accuracy: 0.7994 - val_loss: 0.5135 - val_accuracy: 0.7504\n",
            "Training Complete\n"
          ],
          "name": "stdout"
        }
      ]
    },
    {
      "cell_type": "code",
      "metadata": {
        "id": "ECQeOLSl-cQh",
        "colab_type": "code",
        "colab": {
          "base_uri": "https://localhost:8080/",
          "height": 607
        },
        "outputId": "0d1258a2-2383-473e-fa91-bb10731cc57f"
      },
      "source": [
        "import matplotlib.image  as mpimg\n",
        "import matplotlib.pyplot as plt\n",
        "\n",
        "#-----------------------------------------------------------\n",
        "# Retrieve a list of list results on training and test data\n",
        "# sets for each training epoch\n",
        "#-----------------------------------------------------------\n",
        "acc=history.history['accuracy']\n",
        "val_acc=history.history['val_accuracy']\n",
        "loss=history.history['loss']\n",
        "val_loss=history.history['val_loss']\n",
        "\n",
        "epochs=range(len(acc)) # Get number of epochs\n",
        "\n",
        "#------------------------------------------------\n",
        "# Plot training and validation accuracy per epoch\n",
        "#------------------------------------------------\n",
        "plt.plot(epochs, acc, 'r')\n",
        "plt.plot(epochs, val_acc, 'b')\n",
        "plt.title('Training and validation accuracy')\n",
        "plt.xlabel(\"Epochs\")\n",
        "plt.ylabel(\"Accuracy\")\n",
        "plt.legend([\"Accuracy\", \"Validation Accuracy\"])\n",
        "\n",
        "plt.figure()\n",
        "\n",
        "#------------------------------------------------\n",
        "# Plot training and validation loss per epoch\n",
        "#------------------------------------------------\n",
        "plt.plot(epochs, loss, 'r')\n",
        "plt.plot(epochs, val_loss, 'b')\n",
        "plt.title('Training and validation loss')\n",
        "plt.xlabel(\"Epochs\")\n",
        "plt.ylabel(\"Loss\")\n",
        "plt.legend([\"Loss\", \"Validation Loss\"])\n",
        "\n",
        "plt.figure()\n",
        "\n",
        "\n",
        "# Expected Output\n",
        "# A chart where the validation loss does not increase sharply!"
      ],
      "execution_count": 37,
      "outputs": [
        {
          "output_type": "execute_result",
          "data": {
            "text/plain": [
              "<Figure size 432x288 with 0 Axes>"
            ]
          },
          "metadata": {
            "tags": []
          },
          "execution_count": 37
        },
        {
          "output_type": "display_data",
          "data": {
            "image/png": "[encoded data removed]",
            "text/plain": [
              "<Figure size 432x288 with 1 Axes>"
            ]
          },
          "metadata": {
            "tags": [],
            "needs_background": "light"
          }
        },
        {
          "output_type": "display_data",
          "data": {
            "image/png": "[encoded data removed]",
            "text/plain": [
              "<Figure size 432x288 with 1 Axes>"
            ]
          },
          "metadata": {
            "tags": [],
            "needs_background": "light"
          }
        },
        {
          "output_type": "display_data",
          "data": {
            "text/plain": [
              "<Figure size 432x288 with 0 Axes>"
            ]
          },
          "metadata": {
            "tags": []
          }
        }
      ]
    }
  ]
}